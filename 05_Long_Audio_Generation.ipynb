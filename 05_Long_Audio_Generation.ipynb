{
 "cells": [
  {
   "cell_type": "code",
   "execution_count": 1,
   "id": "4a800ef8-e0d8-4c54-bd4b-168be1da5586",
   "metadata": {},
   "outputs": [
    {
     "name": "stdout",
     "output_type": "stream",
     "text": [
      "\u001b[33mWARNING: Running pip as the 'root' user can result in broken permissions and conflicting behaviour with the system package manager. It is recommended to use a virtual environment instead: https://pip.pypa.io/warnings/venv\u001b[0m\u001b[33m\n",
      "\u001b[0mNote: you may need to restart the kernel to use updated packages.\n"
     ]
    }
   ],
   "source": [
    "%pip install pytube pydub tortoise-tts torch torchaudio librosa soundfile -q"
   ]
  },
  {
   "cell_type": "code",
   "execution_count": 2,
   "id": "b42c039c-1e2c-4380-a25b-e942a7c374fd",
   "metadata": {},
   "outputs": [
    {
     "name": "stdout",
     "output_type": "stream",
     "text": [
      "\u001b[33mWARNING: Skipping tortuise-tts as it is not installed.\u001b[0m\u001b[33m\n",
      "\u001b[0m\u001b[33mWARNING: Running pip as the 'root' user can result in broken permissions and conflicting behaviour with the system package manager. It is recommended to use a virtual environment instead: https://pip.pypa.io/warnings/venv\u001b[0m\u001b[33m\n",
      "\u001b[0mNote: you may need to restart the kernel to use updated packages.\n"
     ]
    }
   ],
   "source": [
    "%pip uninstall tortuise-tts"
   ]
  },
  {
   "cell_type": "code",
   "execution_count": 4,
   "id": "2ad6bcf1-370e-4300-a417-4e559d39b61a",
   "metadata": {},
   "outputs": [
    {
     "name": "stdout",
     "output_type": "stream",
     "text": [
      "Cloning into 'tortoise-tts'...\n",
      "remote: Enumerating objects: 1932, done.\u001b[K\n",
      "remote: Counting objects: 100% (143/143), done.\u001b[K\n",
      "remote: Compressing objects: 100% (108/108), done.\u001b[K\n",
      "remote: Total 1932 (delta 76), reused 83 (delta 33), pack-reused 1789\u001b[K\n",
      "Receiving objects: 100% (1932/1932), 54.17 MiB | 21.24 MiB/s, done.\n",
      "Resolving deltas: 100% (886/886), done.\n"
     ]
    }
   ],
   "source": [
    "!git clone https://github.com/neonbjb/tortoise-tts.git"
   ]
  },
  {
   "cell_type": "code",
   "execution_count": null,
   "id": "be22c0b4-e91b-4423-a13c-3c8de0a8732c",
   "metadata": {},
   "outputs": [],
   "source": [
    "# Remove text limit in tortuise-tts"
   ]
  },
  {
   "cell_type": "code",
   "execution_count": 5,
   "id": "977216f9-1191-47c3-a63a-53c6b2aa21b5",
   "metadata": {},
   "outputs": [
    {
     "data": {
      "text/plain": [
       "'One-party dictatorial regimes that possessed nuclear weapons, why did the Soviet-Chinese conflict begin and how did it take place, on what other areas of the border did clashes take place, and in the end, who became the victor?'"
      ]
     },
     "execution_count": 5,
     "metadata": {},
     "output_type": "execute_result"
    }
   ],
   "source": [
    "from tortoise.utils.text import split_and_recombine_text\n",
    "eng_text = \"\"\"The small island of Jin balo-dalo, from the Chinese word for precious, also known by the Russian name of Damansky, in March 1969 found itself at the epicenter of international politics. It was from there that a great war could begin between former allies and strategic partners: the USSR and the People's Republic of China. One-party dictatorial regimes that possessed nuclear weapons, why did the Soviet-Chinese conflict begin and how did it take place, on what other areas of the border did clashes take place, and in the end, who became the victor? See all this and much more in the video below. Glory to Ukraine! My name is Vladlen Maraev and you are on History Without Myths, where we talk about the past of Ukraine and the world without embellishments and falsifications. Subscribe to our channel and press the bell so you don't miss new releases, let Ukrainian YouTube flourish!\"\"\"\n",
    " \n",
    "tts_text = split_and_recombine_text(eng_text)\n",
    "tts_text[2]"
   ]
  },
  {
   "cell_type": "code",
   "execution_count": 6,
   "id": "d9bef165-aa4e-47cb-9037-80ece29b2020",
   "metadata": {},
   "outputs": [
    {
     "name": "stderr",
     "output_type": "stream",
     "text": [
      "/opt/conda/lib/python3.10/site-packages/huggingface_hub/file_download.py:1132: FutureWarning: `resume_download` is deprecated and will be removed in version 1.0.0. Downloads always resume when possible. If you want to force a new download, use `force_download=True`.\n",
      "  warnings.warn(\n"
     ]
    },
    {
     "data": {
      "application/vnd.jupyter.widget-view+json": {
       "model_id": "51efb253f7794787af22b74c7f681c71",
       "version_major": 2,
       "version_minor": 0
      },
      "text/plain": [
       "config.json:   0%|          | 0.00/2.11k [00:00<?, ?B/s]"
      ]
     },
     "metadata": {},
     "output_type": "display_data"
    },
    {
     "data": {
      "application/vnd.jupyter.widget-view+json": {
       "model_id": "4da8c87a2e3b46ff8095af02585e4f60",
       "version_major": 2,
       "version_minor": 0
      },
      "text/plain": [
       "pytorch_model.bin:   0%|          | 0.00/1.26G [00:00<?, ?B/s]"
      ]
     },
     "metadata": {},
     "output_type": "display_data"
    },
    {
     "name": "stderr",
     "output_type": "stream",
     "text": [
      "Some weights of the model checkpoint at jbetker/wav2vec2-large-robust-ft-libritts-voxpopuli were not used when initializing Wav2Vec2ForCTC: ['wav2vec2.encoder.pos_conv_embed.conv.weight_v', 'wav2vec2.encoder.pos_conv_embed.conv.weight_g']\n",
      "- This IS expected if you are initializing Wav2Vec2ForCTC from the checkpoint of a model trained on another task or with another architecture (e.g. initializing a BertForSequenceClassification model from a BertForPreTraining model).\n",
      "- This IS NOT expected if you are initializing Wav2Vec2ForCTC from the checkpoint of a model that you expect to be exactly identical (initializing a BertForSequenceClassification model from a BertForSequenceClassification model).\n",
      "Some weights of Wav2Vec2ForCTC were not initialized from the model checkpoint at jbetker/wav2vec2-large-robust-ft-libritts-voxpopuli and are newly initialized: ['wav2vec2.encoder.pos_conv_embed.conv.parametrizations.weight.original1', 'wav2vec2.encoder.pos_conv_embed.conv.parametrizations.weight.original0']\n",
      "You should probably TRAIN this model on a down-stream task to be able to use it for predictions and inference.\n"
     ]
    },
    {
     "data": {
      "application/vnd.jupyter.widget-view+json": {
       "model_id": "59ced509e89140b6bff38a76c8e2b248",
       "version_major": 2,
       "version_minor": 0
      },
      "text/plain": [
       "preprocessor_config.json:   0%|          | 0.00/159 [00:00<?, ?B/s]"
      ]
     },
     "metadata": {},
     "output_type": "display_data"
    },
    {
     "data": {
      "application/vnd.jupyter.widget-view+json": {
       "model_id": "2a2f6b05c0054286ac99371170fc2a3a",
       "version_major": 2,
       "version_minor": 0
      },
      "text/plain": [
       "vocab.json:   0%|          | 0.00/1.61k [00:00<?, ?B/s]"
      ]
     },
     "metadata": {},
     "output_type": "display_data"
    },
    {
     "data": {
      "application/vnd.jupyter.widget-view+json": {
       "model_id": "530fd6699c11452494ab838b5b54da5d",
       "version_major": 2,
       "version_minor": 0
      },
      "text/plain": [
       "tokenizer_config.json:   0%|          | 0.00/181 [00:00<?, ?B/s]"
      ]
     },
     "metadata": {},
     "output_type": "display_data"
    },
    {
     "data": {
      "application/vnd.jupyter.widget-view+json": {
       "model_id": "2941f96724c04e66b5ecb13af5955186",
       "version_major": 2,
       "version_minor": 0
      },
      "text/plain": [
       "special_tokens_map.json:   0%|          | 0.00/85.0 [00:00<?, ?B/s]"
      ]
     },
     "metadata": {},
     "output_type": "display_data"
    },
    {
     "data": {
      "application/vnd.jupyter.widget-view+json": {
       "model_id": "deb241e6d1b346da83156f946fe6db4f",
       "version_major": 2,
       "version_minor": 0
      },
      "text/plain": [
       "autoregressive.pth:   0%|          | 0.00/1.72G [00:00<?, ?B/s]"
      ]
     },
     "metadata": {},
     "output_type": "display_data"
    },
    {
     "data": {
      "application/vnd.jupyter.widget-view+json": {
       "model_id": "3beff4eb48e54fd793ebcd6655542c0a",
       "version_major": 2,
       "version_minor": 0
      },
      "text/plain": [
       "diffusion_decoder.pth:   0%|          | 0.00/1.17G [00:00<?, ?B/s]"
      ]
     },
     "metadata": {},
     "output_type": "display_data"
    },
    {
     "data": {
      "application/vnd.jupyter.widget-view+json": {
       "model_id": "0417e9a7ef1d41d09980dd6b60c910b6",
       "version_major": 2,
       "version_minor": 0
      },
      "text/plain": [
       "clvp2.pth:   0%|          | 0.00/976M [00:00<?, ?B/s]"
      ]
     },
     "metadata": {},
     "output_type": "display_data"
    },
    {
     "name": "stderr",
     "output_type": "stream",
     "text": [
      "/opt/conda/lib/python3.10/site-packages/torch/nn/utils/weight_norm.py:28: UserWarning: torch.nn.utils.weight_norm is deprecated in favor of torch.nn.utils.parametrizations.weight_norm.\n",
      "  warnings.warn(\"torch.nn.utils.weight_norm is deprecated in favor of torch.nn.utils.parametrizations.weight_norm.\")\n"
     ]
    },
    {
     "data": {
      "application/vnd.jupyter.widget-view+json": {
       "model_id": "9d1b877e88ea4f46ab0e96ab64e0dbcd",
       "version_major": 2,
       "version_minor": 0
      },
      "text/plain": [
       "vocoder.pth:   0%|          | 0.00/391M [00:00<?, ?B/s]"
      ]
     },
     "metadata": {},
     "output_type": "display_data"
    }
   ],
   "source": [
    "from tortoise.api import TextToSpeech\n",
    "from tortoise.utils.audio import load_voice\n",
    "import torchaudio\n",
    "\n",
    "speech_procpreseessor = TextToSpeech()\n",
    "voice_samples, conditioning_latents = load_voice(\"many_short\", extra_voice_dirs=[\"./data/voices\"])"
   ]
  },
  {
   "cell_type": "code",
   "execution_count": null,
   "id": "3f6ce192-cac1-438a-aa2f-d98a50399cfe",
   "metadata": {},
   "outputs": [
    {
     "name": "stdout",
     "output_type": "stream",
     "text": [
      "Generating autoregressive samples..\n"
     ]
    },
    {
     "name": "stderr",
     "output_type": "stream",
     "text": [
      " 19%|█▉        | 3/16 [03:11<13:58, 64.48s/it]"
     ]
    }
   ],
   "source": [
    "gen = speech_processor.tts_with_preset(\n",
    "    text=tts_text[2],\n",
    "    preset=\"high_quality\",\n",
    "    voice_samples=voice_samples,\n",
    "    conditioning_latents=conditioning_latents,\n",
    "    k=1\n",
    ")\n",
    "\n",
    "torchaudio.save('data/test.wav', gen.squeeze(0).cpu(), 24000)"
   ]
  },
  {
   "cell_type": "code",
   "execution_count": null,
   "id": "1a7297a1-b012-4b62-97be-04d59a2969c9",
   "metadata": {},
   "outputs": [],
   "source": [
    "\" \".join(tts_text)"
   ]
  },
  {
   "cell_type": "code",
   "execution_count": null,
   "id": "817d45f2-b015-4bc5-b7a9-235fcd4e84ed",
   "metadata": {},
   "outputs": [],
   "source": [
    "gen = speech_processor.tts_with_preset(\n",
    "    text=\" \".join(tts_text),\n",
    "    preset=\"high_quality\",\n",
    "    voice_samples=voice_samples,\n",
    "    conditioning_latents=conditioning_latents,\n",
    "    k=1\n",
    ")\n",
    "\n",
    "torchaudio.save('data/test_long_audio.wav', gen.squeeze(0).cpu(), 24000)"
   ]
  }
 ],
 "metadata": {
  "kernelspec": {
   "display_name": "Python 3 (ipykernel)",
   "language": "python",
   "name": "python3"
  },
  "language_info": {
   "codemirror_mode": {
    "name": "ipython",
    "version": 3
   },
   "file_extension": ".py",
   "mimetype": "text/x-python",
   "name": "python",
   "nbconvert_exporter": "python",
   "pygments_lexer": "ipython3",
   "version": "3.10.13"
  }
 },
 "nbformat": 4,
 "nbformat_minor": 5
}
